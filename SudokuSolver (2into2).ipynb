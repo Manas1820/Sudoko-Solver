{
 "cells": [
  {
   "cell_type": "code",
   "execution_count": 184,
   "metadata": {},
   "outputs": [],
   "source": [
    "grid=[[0,0,0,3],\n",
    "      [4,0,0,0],\n",
    "      [0,0,0,1],\n",
    "      [3,0,0,0]]"
   ]
  },
  {
   "cell_type": "code",
   "execution_count": 185,
   "metadata": {},
   "outputs": [],
   "source": [
    "import numpy as np"
   ]
  },
  {
   "cell_type": "code",
   "execution_count": 186,
   "metadata": {},
   "outputs": [],
   "source": [
    "def test(y,x,num):\n",
    "    global grid\n",
    "    for i in range (0,4):                 # to check in the same column\n",
    "        if grid[y][i] ==num :\n",
    "            return False   \n",
    "        \n",
    "    for i in range (0,4) :                #to check in the same row \n",
    "        if grid[i][x] ==num :\n",
    "            return False\n",
    "    \n",
    "    \n",
    "    x_box=(x//2)*2\n",
    "    y_box=(y//2)*2\n",
    "    \n",
    "    for i in range (0,2):\n",
    "        for j in range (0,2):\n",
    "            if grid[y_box+i][x_box+j]== num:\n",
    "                return False\n",
    "            \n",
    "    return True       "
   ]
  },
  {
   "cell_type": "code",
   "execution_count": 187,
   "metadata": {},
   "outputs": [],
   "source": [
    "def solveMatrix() :\n",
    "    global grid\n",
    "    for y in range (0,4) :\n",
    "        for x in range (0,4):\n",
    "            if grid[y][x] == 0 :\n",
    "                for num in range (1,5):                \n",
    "                    if test(y,x,num) :\n",
    "                        grid[y][x]=num\n",
    "                        solveMatrix()\n",
    "                        grid[y][x]=0\n",
    "                return       \n",
    "                \n",
    "            \n",
    "    print(np.matrix(grid))\n",
    "                    "
   ]
  },
  {
   "cell_type": "code",
   "execution_count": 188,
   "metadata": {},
   "outputs": [
    {
     "name": "stdout",
     "output_type": "stream",
     "text": [
      "[[1 2 4 3]\n",
      " [4 3 1 2]\n",
      " [2 4 3 1]\n",
      " [3 1 2 4]]\n"
     ]
    }
   ],
   "source": [
    "solveMatrix()"
   ]
  },
  {
   "cell_type": "code",
   "execution_count": null,
   "metadata": {},
   "outputs": [],
   "source": [
    "\n"
   ]
  },
  {
   "cell_type": "code",
   "execution_count": null,
   "metadata": {},
   "outputs": [],
   "source": []
  },
  {
   "cell_type": "code",
   "execution_count": null,
   "metadata": {},
   "outputs": [],
   "source": [
    "\n",
    "\n"
   ]
  }
 ],
 "metadata": {
  "kernelspec": {
   "display_name": "Python 3",
   "language": "python",
   "name": "python3"
  },
  "language_info": {
   "codemirror_mode": {
    "name": "ipython",
    "version": 3
   },
   "file_extension": ".py",
   "mimetype": "text/x-python",
   "name": "python",
   "nbconvert_exporter": "python",
   "pygments_lexer": "ipython3",
   "version": "3.6.4"
  }
 },
 "nbformat": 4,
 "nbformat_minor": 4
}
