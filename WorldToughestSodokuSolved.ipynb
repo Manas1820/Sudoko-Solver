{
 "cells": [
  {
   "cell_type": "code",
   "execution_count": 1,
   "metadata": {},
   "outputs": [],
   "source": [
    "grid=[[8,0,0,0,0,0,0,0,0],\n",
    "      [0,0,3,6,0,0,0,0,0],\n",
    "      [0,7,0,0,9,0,2,0,0],\n",
    "      [0,5,0,0,0,7,0,0,0],\n",
    "      [0,0,0,0,4,5,7,0,0],\n",
    "      [0,0,0,1,0,0,0,3,0],\n",
    "      [0,0,1,0,0,0,0,6,8],\n",
    "      [0,0,8,5,0,0,0,1,0],\n",
    "      [0,9,0,0,0,0,4,0,0]   \n",
    "]\n"
   ]
  },
  {
   "cell_type": "code",
   "execution_count": 2,
   "metadata": {},
   "outputs": [],
   "source": [
    "def test(y,x,num):\n",
    "    global grid\n",
    "    for i in range (0,9):       # to check in the same column\n",
    "        if grid[y][i] ==num :\n",
    "            return False   \n",
    "        \n",
    "    for i in range (0,9) :      #to check in the same row \n",
    "        if grid[i][x] ==num :\n",
    "            return False\n",
    "    \n",
    "    \n",
    "    x_box=(x//3)*3\n",
    "    y_box=(y//3)*3\n",
    "    \n",
    "    for i in range (0,3):       #to check in the 3*3 block \n",
    "        for j in range (0,3):\n",
    "            if grid[y_box+i][x_box+j]==num:\n",
    "                return False\n",
    "            \n",
    "    return True     "
   ]
  },
  {
   "cell_type": "code",
   "execution_count": 3,
   "metadata": {},
   "outputs": [],
   "source": [
    "import numpy as np\n",
    "\n",
    "def solveMatrix() :\n",
    "    global grid\n",
    "    for y in range (9) :\n",
    "        for x in range (9):\n",
    "            if grid[y][x] == 0 :\n",
    "                for num in range (1,10):                \n",
    "                    if test(y,x,num) :\n",
    "                        grid[y][x]=num\n",
    "                        solveMatrix()\n",
    "                        grid[y][x]=0\n",
    "                        \n",
    "                return\n",
    "            \n",
    "    print(np.matrix(grid))"
   ]
  },
  {
   "cell_type": "code",
   "execution_count": 4,
   "metadata": {},
   "outputs": [
    {
     "name": "stdout",
     "output_type": "stream",
     "text": [
      "[[8 1 2 7 5 3 6 4 9]\n",
      " [9 4 3 6 8 2 1 7 5]\n",
      " [6 7 5 4 9 1 2 8 3]\n",
      " [1 5 4 2 3 7 8 9 6]\n",
      " [3 6 9 8 4 5 7 2 1]\n",
      " [2 8 7 1 6 9 5 3 4]\n",
      " [5 2 1 9 7 4 3 6 8]\n",
      " [4 3 8 5 2 6 9 1 7]\n",
      " [7 9 6 3 1 8 4 5 2]]\n"
     ]
    }
   ],
   "source": [
    "solveMatrix()"
   ]
  },
  {
   "cell_type": "code",
   "execution_count": 1,
   "metadata": {},
   "outputs": [],
   "source": [
    "# In this My code sucessfully solves the world toughest sodoku as proclaimed by https://www.conceptispuzzles.com/index.aspx?uri=info/article/424 "
   ]
  },
  {
   "cell_type": "code",
   "execution_count": null,
   "metadata": {},
   "outputs": [],
   "source": []
  }
 ],
 "metadata": {
  "kernelspec": {
   "display_name": "Python 3",
   "language": "python",
   "name": "python3"
  },
  "language_info": {
   "codemirror_mode": {
    "name": "ipython",
    "version": 3
   },
   "file_extension": ".py",
   "mimetype": "text/x-python",
   "name": "python",
   "nbconvert_exporter": "python",
   "pygments_lexer": "ipython3",
   "version": "3.6.4"
  }
 },
 "nbformat": 4,
 "nbformat_minor": 4
}
